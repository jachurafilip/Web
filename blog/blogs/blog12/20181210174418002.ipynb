{
 "cells": [
  {
   "cell_type": "markdown",
   "metadata": {},
   "source": [
    "***Zadanie 1***"
   ]
  },
  {
   "cell_type": "code",
   "execution_count": 1,
   "metadata": {},
   "outputs": [],
   "source": [
    "import numpy as np\n",
    "A = np.matrix('1 1; 1 1.0001')\n",
    "b1 = np.matrix('2; 2.0001')\n",
    "b2 = np.matrix('2;2')\n",
    "x1 = np.linalg.inv(A)@b1\n",
    "x2 = np.linalg.inv(A)@b2"
   ]
  },
  {
   "cell_type": "code",
   "execution_count": 2,
   "metadata": {},
   "outputs": [
    {
     "name": "stdout",
     "output_type": "stream",
     "text": [
      "[[1.]\n",
      " [1.]]\n",
      "[[2.]\n",
      " [0.]]\n",
      "40002.000074915224\n"
     ]
    }
   ],
   "source": [
    "print(x1)\n",
    "print(x2)\n",
    "print(np.linalg.cond(A))"
   ]
  },
  {
   "cell_type": "markdown",
   "metadata": {},
   "source": [
    "Widzimy, że przy zmianie wartości b o 10<sup>-4</sup>, wartość x zmienia się o 1, zatem widzimy, że współczynnik uwarunkowania powinien być duży i faktycznie wynosi on ponad 40000"
   ]
  },
  {
   "cell_type": "markdown",
   "metadata": {},
   "source": [
    "***Zadanie 2***"
   ]
  },
  {
   "cell_type": "code",
   "execution_count": 12,
   "metadata": {},
   "outputs": [
    {
     "name": "stdout",
     "output_type": "stream",
     "text": [
      "33872789109.75766\n",
      "33872789110.107353\n",
      "15257575566.627958\n"
     ]
    }
   ],
   "source": [
    "import scipy as sp\n",
    "\n",
    "A = sp.linalg.hilbert(8)\n",
    "column = np.linalg.cond(A,np.inf)\n",
    "print(column)\n",
    "row = np.linalg.cond(A,1)\n",
    "print(row)\n",
    "spectral = np.linalg.cond(A,2)\n",
    "print(spectral)"
   ]
  },
  {
   "cell_type": "code",
   "execution_count": 74,
   "metadata": {},
   "outputs": [
    {
     "name": "stdout",
     "output_type": "stream",
     "text": [
      "[[ 1.00000000e+00]\n",
      " [ 3.32764927e-11]\n",
      " [-8.00000000e+00]\n",
      " [ 6.35818437e-08]\n",
      " [ 1.06666656e+01]\n",
      " [ 1.19699204e-05]\n",
      " [-5.68898363e+00]\n",
      " [ 5.53922234e-04]\n",
      " [ 1.62293934e+00]\n",
      " [ 8.41840595e-03]\n",
      " [-3.11464449e-01]\n",
      " [ 4.71900888e-02]\n",
      " [-4.25883553e-02]\n",
      " [ 9.95878711e-02]\n",
      " [-1.01598838e-01]\n",
      " [ 7.36115670e-02]\n",
      " [-3.99387587e-02]\n",
      " [ 1.50687889e-02]\n",
      " [-3.49070550e-03]\n",
      " [ 3.73507626e-04]]\n",
      "[[ 1.00000000e+00]\n",
      " [-3.68180914e-11]\n",
      " [-8.00000000e+00]\n",
      " [-6.68040308e-08]\n",
      " [ 1.06666678e+01]\n",
      " [-1.18047669e-05]\n",
      " [-5.68879853e+00]\n",
      " [-5.10732658e-04]\n",
      " [ 1.62758794e+00]\n",
      " [-7.26294062e-03]\n",
      " [-2.70154238e-01]\n",
      " [-3.82348552e-02]\n",
      " [ 9.60780538e-02]\n",
      " [-7.61559375e-02]\n",
      " [ 7.02589345e-02]\n",
      " [-5.34097741e-02]\n",
      " [ 2.86281041e-02]\n",
      " [-1.04196293e-02]\n",
      " [ 2.33851891e-03]\n",
      " [-2.44422212e-04]]\n",
      "[[ 1.00000000e+00]\n",
      " [ 1.32997475e-11]\n",
      " [-8.00000000e+00]\n",
      " [ 2.27399505e-08]\n",
      " [ 1.06666663e+01]\n",
      " [ 3.63061300e-06]\n",
      " [-5.68891467e+00]\n",
      " [ 1.32078403e-04]\n",
      " [ 1.62489928e+00]\n",
      " [ 1.38430832e-03]\n",
      " [-2.91765386e-01]\n",
      " [ 3.94194537e-03]\n",
      " [ 3.18156585e-02]\n",
      " [-1.48548542e-04]\n",
      " [ 1.32017843e-03]\n",
      " [-6.46255172e-03]\n",
      " [ 5.44668767e-03]\n",
      " [-2.60035272e-03]\n",
      " [ 7.30549910e-04]\n",
      " [-9.27605996e-05]]\n"
     ]
    }
   ],
   "source": [
    "import math\n",
    "n = 20\n",
    "t = np.linspace(0,1,20)\n",
    "t.shape = (n,1)\n",
    "\n",
    "b = np.array([math.cos(4*x) for x in t])\n",
    "b.shape = (n,1)\n",
    "\n",
    "t_ = np.linspace(0,1,20)\n",
    "A = np.vander(t_,increasing = True)\n",
    "\n",
    "#Z użyciem funkcji solve\n",
    "x = np.linalg.solve(A,b)\n",
    "print(x)\n",
    "\n",
    "#Z użyciem QR\n",
    "q,r= np.linalg.qr(A)\n",
    "b_ = np.transpose(q)@b\n",
    "x2 = sp.linalg.solve_triangular(r,b_)\n",
    "print(x2)\n",
    "\n",
    "#Z użyciem lstsq\n",
    "\n",
    "x3 = np.linalg.lstsq(A,b,rcond = None)[0]\n",
    "print(x3)\n",
    "\n",
    "#TODO czasy i analiza"
   ]
  },
  {
   "cell_type": "markdown",
   "metadata": {},
   "source": [
    "***Zadanie 4***"
   ]
  },
  {
   "cell_type": "code",
   "execution_count": 88,
   "metadata": {},
   "outputs": [
    {
     "name": "stdout",
     "output_type": "stream",
     "text": [
      "[[ 1.          0.70007824 -0.37739748 ... -0.16908432 -0.55607119\n",
      "  -0.70277455]\n",
      " [ 0.70007824  1.          0.19848575 ... -0.13233122  0.45733898\n",
      "  -0.63725528]\n",
      " [-0.37739748  0.19848575  1.         ... -0.93434764 -0.62433503\n",
      "  -0.88062184]\n",
      " ...\n",
      " [-0.16908432 -0.13233122 -0.93434764 ...  1.         -0.62754043\n",
      "  -0.56338002]\n",
      " [-0.55607119  0.45733898 -0.62433503 ... -0.62754043  1.\n",
      "   0.90776588]\n",
      " [-0.70277455 -0.63725528 -0.88062184 ... -0.56338002  0.90776588\n",
      "   1.        ]]\n"
     ]
    }
   ],
   "source": [
    "def Matrix(theta=0):\n",
    "    A = np.ones(500)\n",
    "    A = np.diag(A)\n",
    "    B = np.random.rand(500,500)*2-1\n",
    "    C = np.tril(B,-1)\n",
    "    A = A+C+np.transpose(C)\n",
    "    return A\n",
    "\n",
    "\n",
    "print (Matrix())"
   ]
  },
  {
   "cell_type": "code",
   "execution_count": null,
   "metadata": {},
   "outputs": [],
   "source": []
  }
 ],
 "metadata": {
  "kernelspec": {
   "display_name": "Python 3",
   "language": "python",
   "name": "python3"
  },
  "language_info": {
   "codemirror_mode": {
    "name": "ipython",
    "version": 3
   },
   "file_extension": ".py",
   "mimetype": "text/x-python",
   "name": "python",
   "nbconvert_exporter": "python",
   "pygments_lexer": "ipython3",
   "version": "3.6.7"
  }
 },
 "nbformat": 4,
 "nbformat_minor": 2
}
